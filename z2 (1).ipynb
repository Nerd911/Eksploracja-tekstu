{
 "cells": [
  {
   "cell_type": "code",
   "execution_count": 65,
   "metadata": {},
   "outputs": [],
   "source": [
    "import matplotlib.pyplot as plt\n",
    "import pandas as pd\n",
    "import numpy as np\n",
    "\n",
    "from collections import defaultdict as dd\n",
    "from itertools import chain\n",
    "from collections import namedtuple\n",
    "\n",
    "import os\n",
    "import pickle\n",
    "import shelve\n",
    "import unicodedata\n",
    "import nltk\n",
    "\n",
    "import time\n",
    "from termcolor import colored\n",
    "\n",
    "from tqdm import trange, tqdm, tqdm_notebook\n",
    "\n",
    "from sklearn.feature_extraction.text import TfidfVectorizer\n",
    "from sklearn.neighbors import KNeighborsClassifier\n",
    "from sklearn.metrics.pairwise import linear_kernel"
   ]
  },
  {
   "cell_type": "code",
   "execution_count": 12,
   "metadata": {},
   "outputs": [],
   "source": [
    "Article = namedtuple(\"Article\", [\"title\", \"header\", \"content\"])"
   ]
  },
  {
   "cell_type": "code",
   "execution_count": null,
   "metadata": {},
   "outputs": [],
   "source": [
    "# with open(r'dane\\fp_wiki.txt', 'r', encoding='utf8') as f:\n",
    "#     wikipedia_raw = f.read()\n",
    "# articles_raw = wikipedia_raw.split('\\n\\n')\n",
    "\n",
    "# wikipedia_db = []\n",
    "# for article_raw in tqdm(articles_raw):\n",
    "#     article_lines = article_raw.split('\\n')\n",
    "\n",
    "#     if len(article_lines) < 2:\n",
    "#         continue\n",
    "\n",
    "#     title = article_lines[0][7:]\n",
    "#     header = article_lines[1]\n",
    "#     content = '\\n'.join(article_lines[2:])\n",
    "#     if len(content) == 0:\n",
    "#         continue\n",
    "\n",
    "#     article = Article(title, header, content)\n",
    "#     wikipedia_db.append(article)"
   ]
  },
  {
   "cell_type": "code",
   "execution_count": 13,
   "metadata": {},
   "outputs": [],
   "source": [
    "# if not os.path.exists('.cache'):\n",
    "#     os.makedirs('.cache')\n",
    "    \n",
    "# with open(f'.cache/wikipedia.pickle', 'wb') as file:\n",
    "#     pickle.dump(wikipedia_db, file, protocol=pickle.HIGHEST_PROTOCOL)\n",
    "\n",
    "with open(f'.cache/wikipedia.pickle', 'rb') as file:\n",
    "    wikipedia_db = pickle.load(file)"
   ]
  },
  {
   "cell_type": "code",
   "execution_count": 38,
   "metadata": {},
   "outputs": [],
   "source": [
    "# stop_words = set()\n",
    "# for line in open(\"dane\\stop_words.txt\", 'r', encoding='utf8'):\n",
    "#     stop_words.add(line[:-1])\n",
    "# punctuation = set([\"'\", \"(\", \")\", \"-\", \"!\", \"[\", \"]\", \"–\", \"\", \"&\", \"?\", \"''\", \":\", ';', '``', '.', '``', '„', '”', ','])"
   ]
  },
  {
   "cell_type": "code",
   "execution_count": 20,
   "metadata": {},
   "outputs": [
    {
     "data": {
      "application/vnd.jupyter.widget-view+json": {
       "model_id": "a91feb7113034aec93c21e21cf390c01",
       "version_major": 2,
       "version_minor": 0
      },
      "text/plain": [
       "HBox(children=(IntProgress(value=0, max=1159857), HTML(value='')))"
      ]
     },
     "metadata": {},
     "output_type": "display_data"
    },
    {
     "name": "stdout",
     "output_type": "stream",
     "text": [
      "\n"
     ]
    }
   ],
   "source": [
    "title_list_raw = []\n",
    "for article in tqdm_notebook(wikipedia_db):\n",
    "    title_list_raw.append(article.title)\n",
    "title_list = [x.lower().replace(\" \",\"\") for x in title_list_raw]"
   ]
  },
  {
   "cell_type": "code",
   "execution_count": 41,
   "metadata": {},
   "outputs": [
    {
     "data": {
      "application/vnd.jupyter.widget-view+json": {
       "model_id": "9103be2c07c04926af15736711b38427",
       "version_major": 2,
       "version_minor": 0
      },
      "text/plain": [
       "HBox(children=(IntProgress(value=0, max=1159857), HTML(value='')))"
      ]
     },
     "metadata": {},
     "output_type": "display_data"
    }
   ],
   "source": [
    "# short_wiki = []\n",
    "# for art in tqdm_notebook(wikipedia_db):\n",
    "#     good_words = []\n",
    "    \n",
    "#     title = nltk.word_tokenize(art.title)\n",
    "#     for word in title:\n",
    "#         word = word.lower()\n",
    "#         if word in stop_words or word in punctuation:\n",
    "#             continue\n",
    "#         good_words.append(word)\n",
    "        \n",
    "#     content = nltk.word_tokenize(art.content)\n",
    "#     for word in content[:100]:\n",
    "#         word = word.lower()\n",
    "#         if word in stop_words or word in punctuation:\n",
    "#             continue\n",
    "#         good_words.append(word)\n",
    "        \n",
    "#     short_article = (good_words)[:50]\n",
    "#     short_wiki.append(short_article)"
   ]
  },
  {
   "cell_type": "code",
   "execution_count": 115,
   "metadata": {},
   "outputs": [],
   "source": [
    "# if not os.path.exists('.cache'):\n",
    "#     os.makedirs('.cache')\n",
    "    \n",
    "# with open(f'.cache/short_wiki.pickle', 'wb') as file:\n",
    "#     pickle.dump(short_wiki, file, protocol=pickle.HIGHEST_PROTOCOL)\n",
    "    \n",
    "with open(f'.cache/short_wiki.pickle', 'rb') as file:\n",
    "    short_wiki = pickle.load(file)"
   ]
  },
  {
   "cell_type": "code",
   "execution_count": 47,
   "metadata": {},
   "outputs": [
    {
     "data": {
      "application/vnd.jupyter.widget-view+json": {
       "model_id": "20743123c7a5483992859ea973d6eae8",
       "version_major": 2,
       "version_minor": 0
      },
      "text/plain": [
       "HBox(children=(IntProgress(value=0, max=1159857), HTML(value='')))"
      ]
     },
     "metadata": {},
     "output_type": "display_data"
    }
   ],
   "source": [
    "short_wiki_conc = []\n",
    "for article in tqdm_notebook(short_wiki):\n",
    "    article = ' '.join(article)\n",
    "    short_wiki_conc.append(article)"
   ]
  },
  {
   "cell_type": "code",
   "execution_count": 86,
   "metadata": {},
   "outputs": [],
   "source": [
    "# vectorizer = TfidfVectorizer(lowercase=False)\n",
    "# tfidfs = vectorizer.fit_transform(short_wiki_conc)"
   ]
  },
  {
   "cell_type": "code",
   "execution_count": 89,
   "metadata": {},
   "outputs": [],
   "source": [
    "# if not os.path.exists('.cache'):\n",
    "#     os.makedirs('.cache')\n",
    "    \n",
    "# with open(f'.cache/tfidfs.pickle', 'wb') as file:\n",
    "#     pickle.dump(tfidfs, file, protocol=pickle.HIGHEST_PROTOCOL)\n",
    "    \n",
    "with open(f'.cache/tfidfs.pickle', 'rb') as file:\n",
    "    tfidfs = pickle.load(file)"
   ]
  },
  {
   "cell_type": "code",
   "execution_count": 91,
   "metadata": {},
   "outputs": [],
   "source": [
    "def get_ngrams(sentence, n=2):\n",
    "    ngram = []\n",
    "    for it in range(len(sentence) - n + 1):\n",
    "        ngram.append(sentence[it : it + n])\n",
    "    return ngram"
   ]
  },
  {
   "cell_type": "code",
   "execution_count": 92,
   "metadata": {},
   "outputs": [],
   "source": [
    "def title_search(q, bdr=5, n=2):\n",
    "    query = q.lower().replace(\" \",\"\")\n",
    "    query_len = len(query)\n",
    "    \n",
    "    grams = get_ngrams(query, n)\n",
    "    \n",
    "    candidates_long = [x for x in title_list if (len(x) >= (query_len - bdr) and len(x) <= (query_len + bdr))]\n",
    "\n",
    "    final_score = []\n",
    "    for title in candidates_long:\n",
    "        title_score = 0\n",
    "        for gram in grams:\n",
    "            if gram in title:\n",
    "                title_score += 1\n",
    "        final_score.append(title_score)\n",
    "    \n",
    "    max_val = final_score[np.argmax(final_score)]\n",
    "    best_fits = [i for i, x in enumerate(final_score) if x == max_val]\n",
    "    \n",
    "    if len(best_fits) > 1:\n",
    "        best_titles =  sorted([(candidates_long[i], i) for i in best_fits], key=lambda x: len(x[0]))\n",
    "        best_trimmed = [(title[: title.find('(')], i) for title, i in best_titles]\n",
    "        \n",
    "        init_len = len(best_trimmed[0][0])\n",
    "        i = 1\n",
    "        while i < len(best_trimmed) and len(best_trimmed[i][0]) == init_len:\n",
    "            i += 1\n",
    "        \n",
    "        if i > 1:\n",
    "            best_earliest = sorted(best_trimmed[:i], key=lambda x: x[1])\n",
    "            best_fits = [best_earliest[0][1]]\n",
    "            \n",
    "            j = 1\n",
    "            while j < i and best_earliest[j][0] == best_earliest[j-1][0]:\n",
    "                j += 1\n",
    "            i = j\n",
    "            \n",
    "        best_fits = [i for _, i in best_trimmed[:i]]\n",
    "    best_fits = [title_list.index(np.array(candidates_long)[i]) for i in best_fits]\n",
    "    \n",
    "    return best_fits"
   ]
  },
  {
   "cell_type": "code",
   "execution_count": 113,
   "metadata": {
    "scrolled": true
   },
   "outputs": [],
   "source": [
    "def find_similar(query, n_display=5):\n",
    "    i = title_search(query)[0]\n",
    "    cosine_similarities = linear_kernel(tfidfs[i:i+1], tfidfs).flatten()\n",
    "    \n",
    "    print(f'QUERY: {query}\\n')\n",
    "    for i in np.argsort(cosine_similarities, )[-n_display:]:\n",
    "        art = wikipedia_db[i]\n",
    "        print(art.title + '\\n')\n",
    "        print(art.content + '\\n')\n",
    "        print('-' * 100 + '\\n')"
   ]
  },
  {
   "cell_type": "code",
   "execution_count": 114,
   "metadata": {
    "scrolled": true
   },
   "outputs": [
    {
     "name": "stdout",
     "output_type": "stream",
     "text": [
      "QUERY: właasadcapierccienai\n",
      "\n",
      "Władca Pierścieni (trylogia filmowa)\n",
      "\n",
      "Władca Pierścieni ( ang . `` The Lord of the Rings '' ) – trzyczęściowe dzieło filmowe z gatunku fantasy nakręcone w oparciu o powieść J.R.R . Tolkiena pod tym samym tytułem . Reżyserem filmu jest Peter Jackson , który wraz ze swoją żoną Frances Walsh i Philippą Boyens napisał także scenariusz .\n",
      "Niemal wszystkie sceny powstały w czasie osiemnastu miesięcy ciągłej produkcji w plenerach Nowej Zelandii . Skorzystano również z pomocy 10 000 nowozelandzkich kibiców krykieta , którzy w przerwie jednego z meczów pomogli przy nagraniu odgłosów armii orków .\n",
      "\n",
      "----------------------------------------------------------------------------------------------------\n",
      "\n",
      "Powrót króla (film 1980)\n",
      "\n",
      "Powrót króla ( ang . `` The Return of the King '' ) – film animowany z 1980 roku produkcji Rankin/Bass i Topcraft . Jest to filmowa adaptacja powieści Władca Pierścieni . Dwie Wieże oraz Władca Pierścieni : Powrót króla . Film jest często uważany za sequel filmu animowanego `` Władca Pierścieni '' z 1978 roku reżyserii Ralpha Bakshi . Podobno Rankin/Bass zdecydowało się wyprodukować taki sequel , gdy dzieło Bakshiego Władca Pierścieni nie doczekała się sequela . Film `` Powrót króla '' z 1980 roku jednak jest podobną animacją do filmu `` Hobbit '' z 1977 roku , a nie `` Władcy Pierścieni '' z 1978 roku . Reżyserami są : Arthur Rankin Jr. i Jules Bass , scenariusz napisał Romeo Muller . Film trwa godzinę i 38 minut .\n",
      "\n",
      "----------------------------------------------------------------------------------------------------\n",
      "\n",
      "Powrót króla\n",
      "\n",
      "Powrót króla ( ang . `` The Return of the King '' ) – tytuł trzeciego i ostatniego tomu powieści ( błędnie nazywanej trylogią ) pt . `` Władca Pierścieni '' autorstwa J.R.R . Tolkiena . Tom obejmuje księgę piątą i szóstą powieści , a został po raz pierwszy wydany 20 października 1955 r. w Wielkiej Brytanii . Zawiera także sześć dodatków z dodatkowymi informacjami o Śródziemiu .\n",
      "W początkowym zamyśle Tolkiena `` Władca Pierścieni '' miał być pojedynczym tomem składającym się z sześciu ksiąg oraz rozszerzeń . Pierwotny wydawca podzielił powieść na trzy części , publikując księgi piątą i szóstą wraz z apendyksami pod tytułem `` Powrót króla '' . Tolkien uznał , że wyjawia on zbyt wiele treści i wskazał , że preferowanym przez niego tytułem była `` Wojna o Pierścień '' .\n",
      "\n",
      "----------------------------------------------------------------------------------------------------\n",
      "\n",
      "Władca Pierścieni: Bitwa o Śródziemie II\n",
      "\n",
      "Władca Pierścieni : Bitwa o Śródziemie II – gra komputerowa z gatunku RTS . Została wydana 28 lutego 2006 roku na system Windows i 5 lipca tego samego roku na konsolę Xbox 360 przez firmę Electronic Arts . Fabuła bazuje na motywach z książek Johna Ronalda Reuela Tolkiena , Władca Pierścieni i Hobbit , czyli tam i z powrotem oraz ekranizacji pierwszej z nich . Jest kontynuacją gry . Poza standardową edycją została wydana wersja kolekcjonerska w której jest między innymi opisany proces produkcji gry . Serwery do rozgrywki wieloosobowej zostały wyłączone w 2010 roku dla Windowsa a rok później dla Xboxa 360 .\n",
      "\n",
      "----------------------------------------------------------------------------------------------------\n",
      "\n",
      "Władca Pierścieni: Drużyna Pierścienia\n",
      "\n",
      "Władca Pierścieni : Drużyna Pierścienia ( ) – pierwszy film z trylogii `` Władca Pierścieni '' w reżyserii Petera Jacksona . Światowa premiera filmu odbyła się 19 grudnia 2001 r .\n",
      "Film jest adaptacją pierwszej części powieści J.R.R . Tolkiena `` Władca Pierścieni '' zatytułowanej `` Drużyna Pierścienia '' . Kręcono go w plenerach Nowej Zelandii równocześnie z dwiema pozostałymi częściami trylogii . Kontynuacją jest film `` '' .\n",
      "Film został wyprodukowany w studiu New Line Cinema przez Winugut Film na zlecenie New Line Cinema . Dystrybutor filmu to Warner Bros. na zlecenie New Line Cinema .\n",
      "\n",
      "----------------------------------------------------------------------------------------------------\n",
      "\n",
      "Władca Pierścieni (film 1978)\n",
      "\n",
      "Władca Pierścieni ( ang . `` The Lord of the Rings '' ) – amerykański film animowany z 1978 roku . Film jest pierwszą ekranizacją powieści J.R.R . Tolkiena , `` Władca Pierścieni '' .\n",
      "Ekranizacja obejmuje ok. półtora tomu powieści ( do bitwy w Helmowym Jarze ) .\n",
      "Animacja została zrealizowana techniką rotoskopową . Serwis Rotten Tomatoes przyznał filmowi wynik 50 % .\n",
      "i inni\n",
      "Wystąpili:\n",
      "i inni\n",
      "\n",
      "----------------------------------------------------------------------------------------------------\n",
      "\n",
      "Władca Pierścieni: Wojna na Północy\n",
      "\n",
      "Władca Pierścieni : Wojna na Północy ( ang . `` The Lord of the Rings : War in the North '' ) – fabularna gra akcji wydana na platformy Microsoft Windows , PlayStation 3 oraz Xbox 360 , której premiera odbyła się 1 listopada 2011 roku . Akcja gry toczy się w świecie `` Władcy Pierścieni '' w północnej części Śródziemia , równolegle do akcji powieści .\n",
      "Akcja gry rozgrywa się w północnych regionach Śródziemia w tym samym czasie co wydarzenia przedstawione we `` Władca Pierścieni '' . Sojusznik Saurona , czarnoksiężnik Agandaur wraz z armią orków i barbarzyńskich ludów próbuje podbić ludy zamieszkujące północną część kontynentu . Trójka bohaterów – krasnolud Farin , elfka Andriel oraz człowiek Eradan – próbują przeciwstawić się agresorowi .\n",
      "\n",
      "----------------------------------------------------------------------------------------------------\n",
      "\n",
      "Władca Pierścieni: Dwie wieże\n",
      "\n",
      "Władca Pierścieni : Dwie wieże ( ang . `` The Lord of the Rings : The Two Towers '' ) – drugi film z trylogii `` Władca Pierścieni '' w reżyserii Petera Jacksona . Światowa premiera miała miejsce 5 grudnia 2002 r .\n",
      "Film jest adaptacją drugiej części powieści J.R.R . Tolkiena `` Władca Pierścieni '' zatytułowanej `` Dwie wieże '' . Kręcono go w plenerach Nowej Zelandii równocześnie z dwiema pozostałymi częściami trylogii . Jest on kontynuacją filmu `` '' , a kolejną częścią trylogii jest `` '' .\n",
      "Film otrzymał 2 Oscary ( za efekty specjalne i montaż dźwięku ) na 6 nominacji . Otrzymał również 4 MTV Movie Awards w kategoriach : Najlepszy Film , Najlepszy Zespół ( Elijah Wood , Sean Astin i Gollum ) , najlepsza rola wizualna ( Gollum ) i najlepsza scena akcji ( bitwa o Helmowy Jar ) .\n",
      "\n",
      "----------------------------------------------------------------------------------------------------\n",
      "\n",
      "Władca Pierścieni: Powrót króla\n",
      "\n",
      "Władca Pierścieni : Powrót króla ( ang . `` The Lord of the Rings : The Return of the King '' ) – trzeci i ostatni film z trylogii `` Władca Pierścieni '' , powstały w koprodukcji kinematografii amerykańskiej i nowozelandzkiej – w reżyserii Petera Jacksona . Światowa premiera filmu odbyła się 17 grudnia 2003 r .\n",
      "Film jest adaptacją trzeciej części powieści J.R.R . Tolkiena `` Władca Pierścieni '' zatytułowanej `` Powrót króla '' . Kręcono go w plenerach Nowej Zelandii równocześnie z dwiema pozostałymi częściami trylogii . Poprzednią częścią trylogii był film `` '' .\n",
      "\n",
      "----------------------------------------------------------------------------------------------------\n",
      "\n",
      "Władca Pierścieni\n",
      "\n",
      "Władca Pierścieni ( ang . `` The Lord of the Rings '' ) – powieść `` high fantasy '' J.R.R . Tolkiena , której akcja rozgrywa się w mitologicznym świecie Śródziemia .\n",
      "Jest ona kontynuacją innej powieści tego autora zatytułowanej `` Hobbit , czyli tam i z powrotem '' .\n",
      "`` Władca Pierścieni '' jest często mylnie nazywany trylogią , choć w rzeczywistości jest to powieściowa całość , podzielona na sześć ksiąg . Ze względu na swoją dużą objętość została wydana w trzech tomach z powodu nacisków wydawcy ; nie było to jednak oryginalne zamierzenie Tolkiena . Powieść składa się z sześciu części:\n",
      "\n",
      "----------------------------------------------------------------------------------------------------\n",
      "\n"
     ]
    }
   ],
   "source": [
    "find_similar('właasadcapierccienai', 10)"
   ]
  },
  {
   "cell_type": "code",
   "execution_count": null,
   "metadata": {},
   "outputs": [],
   "source": []
  }
 ],
 "metadata": {
  "kernelspec": {
   "display_name": "Python 3",
   "language": "python",
   "name": "python3"
  },
  "language_info": {
   "codemirror_mode": {
    "name": "ipython",
    "version": 3
   },
   "file_extension": ".py",
   "mimetype": "text/x-python",
   "name": "python",
   "nbconvert_exporter": "python",
   "pygments_lexer": "ipython3",
   "version": "3.7.7"
  }
 },
 "nbformat": 4,
 "nbformat_minor": 4
}
