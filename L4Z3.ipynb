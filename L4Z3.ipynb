{
 "cells": [
  {
   "cell_type": "code",
   "execution_count": 1,
   "metadata": {},
   "outputs": [],
   "source": [
    "import numpy as np\n",
    "from collections import defaultdict as dd\n",
    "from typing import List, Dict, Set\n",
    "import nltk\n",
    "from tqdm import tqdm_notebook, tnrange\n",
    "import pickle\n",
    "from termcolor import colored"
   ]
  },
  {
   "cell_type": "code",
   "execution_count": 6,
   "metadata": {},
   "outputs": [],
   "source": [
    "def load_word_set():\n",
    "    all_lemmas = set()\n",
    "    for line in open('Dane/polimorfologik-2.1.txt', encoding='utf-8'):\n",
    "        L = line.split(';')[1].lower()\n",
    "        all_lemmas.add(L)\n",
    "    return all_lemmas"
   ]
  },
  {
   "cell_type": "code",
   "execution_count": 4,
   "metadata": {},
   "outputs": [],
   "source": [
    "def fix_ngram(ngram, word_set):\n",
    "    words = nltk.word_tokenize(ngram)\n",
    "    ok = True\n",
    "    for word in words:\n",
    "        if word not in word_set:\n",
    "            ok = False\n",
    "    if ok:\n",
    "        return [ngram]\n",
    "    words_joined = \"\".join(words)\n",
    "    result = []\n",
    "    if words_joined in word_set:\n",
    "        result.append(words_joined)\n",
    "    for i in range(1, len(words_joined)):\n",
    "        word1, word2 = words_joined[:i], words_joined[i:]\n",
    "        if word1 in word_set and word2 in word_set:\n",
    "            result.append(\" \".join([word1, word2]))\n",
    "    if len(result) == 0:\n",
    "        return [ngram]\n",
    "    return result"
   ]
  },
  {
   "cell_type": "code",
   "execution_count": 7,
   "metadata": {},
   "outputs": [],
   "source": [
    "word_set = load_word_set()"
   ]
  },
  {
   "cell_type": "code",
   "execution_count": 8,
   "metadata": {},
   "outputs": [
    {
     "name": "stdout",
     "output_type": "stream",
     "text": [
      "współużytkowanie\n",
      " ['współużytkowanie\\n']\n",
      "antynatalizm\n",
      " ['antynatalizm\\n']\n",
      "antyna talizm\n",
      " ['antyna talizm\\n']\n",
      "wielodzietny\n",
      " ['wielodzietny\\n']\n",
      "wielo dzietny\n",
      " ['wielo dzietny\\n']\n",
      "wielodzie tny\n",
      " ['wielodzietny', 'wielo dzietny']\n",
      "czerwonyrak\n",
      " ['czerwony rak']\n",
      "ciasnyodbyt\n",
      " ['ciasny odbyt']\n",
      "antyrakietowa ['antyrakietowa']\n"
     ]
    }
   ],
   "source": [
    "with open(\"Dane/test.txt\", \"r\") as ifile:\n",
    "    for line in ifile:\n",
    "        print(f\"{line} {fix_ngram(line, word_set)}\")"
   ]
  },
  {
   "cell_type": "code",
   "execution_count": 9,
   "metadata": {},
   "outputs": [],
   "source": [
    "result = []"
   ]
  },
  {
   "cell_type": "code",
   "execution_count": null,
   "metadata": {},
   "outputs": [],
   "source": [
    "with open(\"Dane/2grams\", \"r\") as ifile:\n",
    "    for line in ifile:\n",
    "        fixed = fix_ngram(line, word_set)\n",
    "        if fixed != [line]:\n",
    "            result.append((line, fixed))"
   ]
  },
  {
   "cell_type": "code",
   "execution_count": null,
   "metadata": {},
   "outputs": [],
   "source": [
    "with open(\"Dane/1grams\", \"r\") as ifile:\n",
    "    for line in ifile:\n",
    "        fixed = fix_ngram(line, word_set)\n",
    "        if fixed != [line]:\n",
    "            result.append((line, fixed))"
   ]
  },
  {
   "cell_type": "code",
   "execution_count": null,
   "metadata": {},
   "outputs": [],
   "source": []
  }
 ],
 "metadata": {
  "kernelspec": {
   "display_name": "Python 3",
   "language": "python",
   "name": "python3"
  },
  "language_info": {
   "codemirror_mode": {
    "name": "ipython",
    "version": 3
   },
   "file_extension": ".py",
   "mimetype": "text/x-python",
   "name": "python",
   "nbconvert_exporter": "python",
   "pygments_lexer": "ipython3",
   "version": "3.7.3"
  }
 },
 "nbformat": 4,
 "nbformat_minor": 4
}
