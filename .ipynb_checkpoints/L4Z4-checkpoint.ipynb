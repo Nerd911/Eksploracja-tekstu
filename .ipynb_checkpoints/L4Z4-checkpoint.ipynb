{
 "cells": [
  {
   "cell_type": "code",
   "execution_count": 3,
   "metadata": {},
   "outputs": [],
   "source": [
    "import numpy as np\n",
    "from collections import defaultdict as dd\n",
    "from typing import List, Dict, Set\n",
    "import nltk\n",
    "from tqdm import tqdm_notebook, tnrange\n",
    "import pickle\n",
    "from termcolor import colored\n",
    "\n",
    "from enum import Enum"
   ]
  },
  {
   "cell_type": "code",
   "execution_count": 4,
   "metadata": {},
   "outputs": [],
   "source": [
    "def load_word_set():\n",
    "    all_lemmas = set()\n",
    "    for line in open('Dane/polimorfologik-2.1.txt', encoding='utf-8'):\n",
    "        L = line.split(';')[1].lower()\n",
    "        all_lemmas.add(L)\n",
    "    return all_lemmas"
   ]
  },
  {
   "cell_type": "code",
   "execution_count": 5,
   "metadata": {},
   "outputs": [],
   "source": [
    "def get_normal_form(w):\n",
    "    polish_map = {\n",
    "        \"ż\": \"z\",\n",
    "        \"ź\": \"z\",\n",
    "        \"x\": \"z\",\n",
    "        \"ó\": \"o\",\n",
    "        \"ł\": \"l\",\n",
    "        \"ć\": \"c\",\n",
    "        \"ą\": \"a\",\n",
    "        \"ń\": \"n\",\n",
    "        \"ę\": \"e\",\n",
    "    }\n",
    "    ortographic_map = {\n",
    "        \"u\": \"o\",\n",
    "        \"om\": \"a\",\n",
    "        \"en\": \"e\",\n",
    "        \"em\": \"e\",\n",
    "        \"on\": \"a\",\n",
    "        \"rz\": \"e\",\n",
    "        \"ch\": \"h\",\n",
    "#         \"fk\": \"wk\",\n",
    "#         \"af\": \"aw\",\n",
    "        \"f\": \"w\",\n",
    "        \"sz\": \"z\",\n",
    "    }\n",
    "    tmp = \"\"\n",
    "    for c in w:\n",
    "        tmp += c if c not in polish_map else polish_map[c]\n",
    "    l = len(w)\n",
    "    res = \"\"\n",
    "    i = 0\n",
    "    while i < l:\n",
    "        if i < l - 1 and tmp[i:(i+2)] in ortographic_map:\n",
    "            res += ortographic_map[tmp[i:(i+2)]]\n",
    "            i += 2\n",
    "            continue\n",
    "        if tmp[i] in ortographic_map:\n",
    "            res += ortographic_map[tmp[i]]\n",
    "            i += 1\n",
    "            continue\n",
    "        res += tmp[i]\n",
    "        i += 1\n",
    "    return res"
   ]
  },
  {
   "cell_type": "code",
   "execution_count": 6,
   "metadata": {},
   "outputs": [],
   "source": [
    "def get_dictionaries():\n",
    "    ws = load_word_set()\n",
    "    res1 = dd(list)\n",
    "    res2 = dd(list)\n",
    "    for w in word_set:\n",
    "        norm_w = get_normal_form(w)\n",
    "        res1[norm_w].append(w)\n",
    "        res2[(w[0], len(w))].append(w)\n",
    "        if len(w) > 1:\n",
    "            res2[(w[1], len(w))].append(w)\n",
    "    return res1, res2"
   ]
  },
  {
   "cell_type": "code",
   "execution_count": 22,
   "metadata": {},
   "outputs": [],
   "source": [
    "class EditOp(Enum):\n",
    "    INS = 1\n",
    "    DEL = 2\n",
    "    CHAN = 3"
   ]
  },
  {
   "cell_type": "code",
   "execution_count": 52,
   "metadata": {},
   "outputs": [],
   "source": [
    "def levenshtein(seq1, seq2, ins_cost=1, del_cost=1, ch_cost=1):\n",
    "    size_x = len(seq1) + 1\n",
    "    size_y = len(seq2) + 1\n",
    "    matrix = np.zeros ((size_x, size_y))\n",
    "    matrix_op = [[[] for _ in range(size_y)] for _ in range(size_x)]\n",
    "#     print(del_cost)\n",
    "#     print(size_x)\n",
    "    for x in range(size_x):\n",
    "#         print(x)\n",
    "        matrix[x, 0] = x*del_cost\n",
    "        matrix_op[x][0] = [EditOp.DEL] * x\n",
    "    for y in range(size_y):\n",
    "        matrix[0, y] = y*ins_cost\n",
    "        matrix_op[0][y] = [EditOp.INS] * y\n",
    "\n",
    "#     print(matrix)\n",
    "    for x in range(1, size_x):\n",
    "        for y in range(1, size_y):\n",
    "#             print(f\"{x},{y}\")\n",
    "#             print(matrix[x-1, y] + del_cost)\n",
    "            matrix[x,y] = matrix[x-1, y] + del_cost\n",
    "            matrix_op[x][y] = matrix_op[x-1][y] + [EditOp.DEL]\n",
    "            cost = matrix[x, y-1] + ins_cost\n",
    "            if cost <= matrix[x, y]:\n",
    "                matrix[x, y] = cost\n",
    "                matrix_op[x][y] =  matrix_op[x][y-1] + [EditOp.INS]\n",
    "            cost = matrix[x-1, y-1] if seq1[x-1] == seq2[y-1] else matrix[x-1, y-1] + ch_cost\n",
    "            ops = matrix_op[x-1][y-1] if seq1[x-1] == seq2[y-1] else matrix_op[x-1][y-1] + [EditOp.CHAN]\n",
    "            if cost <= matrix[x, y]:\n",
    "                matrix[x, y] = cost\n",
    "                matrix_op[x][y] =  ops\n",
    "    return (matrix[size_x - 1, size_y - 1], matrix_op[size_x-1][size_y-1])"
   ]
  },
  {
   "cell_type": "code",
   "execution_count": 50,
   "metadata": {},
   "outputs": [],
   "source": [
    "def argmin(l):\n",
    "    res = None\n",
    "    for i, el in enumerate(l):\n",
    "        if res is None or el < l[res]:\n",
    "            res = i\n",
    "    return res\n",
    "            "
   ]
  },
  {
   "cell_type": "code",
   "execution_count": 25,
   "metadata": {},
   "outputs": [],
   "source": [
    "def find_closest(w, words, ins_cost=1, del_cost=1, ch_cost=1):\n",
    "    edit_distances_and_ops = [levenshtein(w, w1, ins_cost, del_cost, ch_cost) for w1 in tqdm_notebook(words)]\n",
    "    edit_distances = [el[0] for el in edit_distances_and_ops]\n",
    "    i = argmin(edit_distances)\n",
    "    return words[i], edit_distances_and_ops[i]"
   ]
  },
  {
   "cell_type": "code",
   "execution_count": 26,
   "metadata": {},
   "outputs": [],
   "source": [
    "def correct_word(w, norm_dicts, ins_cost=1, del_cost=1, ch_cost=1):\n",
    "    d1, d2 = norm_dicts\n",
    "    norm_w = get_normal_form(w)\n",
    "    if norm_w in d1:\n",
    "        return find_closest(w, d1[norm_w], ins_cost, del_cost, ch_cost)\n",
    "    l = len(w)\n",
    "    w_candidates = []\n",
    "    for i in range(l-1, l+2):\n",
    "        w_candidates += d2[(w[0], i)][:]\n",
    "    if len(w) > 1:\n",
    "        for i in range(l -1, l + 2):\n",
    "            w_candidates += d2[(w[1], i)]\n",
    "    return find_closest(w, w_candidates, ins_cost, del_cost, ch_cost)"
   ]
  },
  {
   "cell_type": "code",
   "execution_count": 14,
   "metadata": {},
   "outputs": [],
   "source": [
    "word_set = load_word_set()"
   ]
  },
  {
   "cell_type": "code",
   "execution_count": 16,
   "metadata": {},
   "outputs": [],
   "source": [
    "d1, d2 = get_dictionaries()"
   ]
  },
  {
   "cell_type": "code",
   "execution_count": null,
   "metadata": {},
   "outputs": [
    {
     "name": "stderr",
     "output_type": "stream",
     "text": [
      "/home/mikolaj/miniconda3/envs/IoT-Pathway/lib/python3.7/site-packages/ipykernel_launcher.py:2: TqdmDeprecationWarning: This function will be removed in tqdm==5.0.0\n",
      "Please use `tqdm.notebook.tqdm` instead of `tqdm.tqdm_notebook`\n",
      "  \n"
     ]
    },
    {
     "data": {
      "application/vnd.jupyter.widget-view+json": {
       "model_id": "7cf6d431004c4eb688c6cabda6b4433d",
       "version_major": 2,
       "version_minor": 0
      },
      "text/plain": [
       "HBox(children=(FloatProgress(value=0.0, max=406510.0), HTML(value='')))"
      ]
     },
     "metadata": {},
     "output_type": "display_data"
    },
    {
     "name": "stdout",
     "output_type": "stream",
     "text": [
      "\n",
      "lokomotywa, lokomowtuwa : lokomotywa\n"
     ]
    },
    {
     "data": {
      "application/vnd.jupyter.widget-view+json": {
       "model_id": "2a1ea9faf8d940cea437685950e63471",
       "version_major": 2,
       "version_minor": 0
      },
      "text/plain": [
       "HBox(children=(FloatProgress(value=0.0, max=435137.0), HTML(value='')))"
      ]
     },
     "metadata": {},
     "output_type": "display_data"
    },
    {
     "name": "stdout",
     "output_type": "stream",
     "text": [
      "\n",
      "lokomotywa, kolokotywa : kolektiwa\n"
     ]
    },
    {
     "data": {
      "application/vnd.jupyter.widget-view+json": {
       "model_id": "c7c0dd6b34bc4db58d985f4e20537b51",
       "version_major": 2,
       "version_minor": 0
      },
      "text/plain": [
       "HBox(children=(FloatProgress(value=0.0, max=406510.0), HTML(value='')))"
      ]
     },
     "metadata": {},
     "output_type": "display_data"
    },
    {
     "name": "stdout",
     "output_type": "stream",
     "text": [
      "\n",
      "lokomotywa, lokonowaywa : lokomotywa\n"
     ]
    },
    {
     "data": {
      "application/vnd.jupyter.widget-view+json": {
       "model_id": "65a5b8263c2b43c2bc0cb02b3c58fd9b",
       "version_major": 2,
       "version_minor": 0
      },
      "text/plain": [
       "HBox(children=(FloatProgress(value=0.0, max=435137.0), HTML(value='')))"
      ]
     },
     "metadata": {},
     "output_type": "display_data"
    },
    {
     "name": "stdout",
     "output_type": "stream",
     "text": [
      "\n",
      "lokomotywa, kolomotywa : lokomotywa\n"
     ]
    },
    {
     "data": {
      "application/vnd.jupyter.widget-view+json": {
       "model_id": "635856fd089745788bd5b560eba012fd",
       "version_major": 2,
       "version_minor": 0
      },
      "text/plain": [
       "HBox(children=(FloatProgress(value=0.0, max=311426.0), HTML(value='')))"
      ]
     },
     "metadata": {},
     "output_type": "display_data"
    },
    {
     "name": "stdout",
     "output_type": "stream",
     "text": [
      "\n",
      "lokomotywa, lokotaywa : lokowana\n"
     ]
    },
    {
     "data": {
      "application/vnd.jupyter.widget-view+json": {
       "model_id": "89e17825316342cbb84684388eda0013",
       "version_major": 2,
       "version_minor": 0
      },
      "text/plain": [
       "HBox(children=(FloatProgress(value=0.0, max=142557.0), HTML(value='')))"
      ]
     },
     "metadata": {},
     "output_type": "display_data"
    },
    {
     "name": "stdout",
     "output_type": "stream",
     "text": [
      "\n",
      "prawdopodobieństwo, prawodpodoniestso : prawdopodobieństwo\n"
     ]
    },
    {
     "data": {
      "application/vnd.jupyter.widget-view+json": {
       "model_id": "902411d4213f46afbd59867b0ea76af5",
       "version_major": 2,
       "version_minor": 0
      },
      "text/plain": [
       "HBox(children=(FloatProgress(value=0.0, max=54659.0), HTML(value='')))"
      ]
     },
     "metadata": {},
     "output_type": "display_data"
    },
    {
     "name": "stdout",
     "output_type": "stream",
     "text": [
      "\n",
      "prawdopodobieństwo, prawdopopdobieństwo : prawdopodobieństwo\n"
     ]
    },
    {
     "data": {
      "application/vnd.jupyter.widget-view+json": {
       "model_id": "68a605131dcc4e419774c4f80e447824",
       "version_major": 2,
       "version_minor": 0
      },
      "text/plain": [
       "HBox(children=(FloatProgress(value=0.0, max=91000.0), HTML(value='')))"
      ]
     },
     "metadata": {},
     "output_type": "display_data"
    },
    {
     "name": "stdout",
     "output_type": "stream",
     "text": [
      "\n",
      "prawdopodobieństwo, prawdopodobieńśtwo : prawdopodobieństwo\n"
     ]
    },
    {
     "data": {
      "application/vnd.jupyter.widget-view+json": {
       "model_id": "d03a1b68e4cc47d0820459947c3c1e5b",
       "version_major": 2,
       "version_minor": 0
      },
      "text/plain": [
       "HBox(children=(FloatProgress(value=0.0, max=31347.0), HTML(value='')))"
      ]
     },
     "metadata": {},
     "output_type": "display_data"
    },
    {
     "name": "stdout",
     "output_type": "stream",
     "text": [
      "\n",
      "prawdopodobieństwo, prawodpodoniesnitswo : prawdopodobieństwom\n"
     ]
    },
    {
     "data": {
      "application/vnd.jupyter.widget-view+json": {
       "model_id": "2d4c8ac718c04304b5695daa35139b3a",
       "version_major": 2,
       "version_minor": 0
      },
      "text/plain": [
       "HBox(children=(FloatProgress(value=0.0, max=31347.0), HTML(value='')))"
      ]
     },
     "metadata": {},
     "output_type": "display_data"
    },
    {
     "name": "stdout",
     "output_type": "stream",
     "text": [
      "\n",
      "prawdopodobieństwo, prawwdopodobeinistwo : prawdopodobieństwom\n"
     ]
    },
    {
     "data": {
      "application/vnd.jupyter.widget-view+json": {
       "model_id": "240801fd72bc4728aaa857d1e06bb194",
       "version_major": 2,
       "version_minor": 0
      },
      "text/plain": [
       "HBox(children=(FloatProgress(value=0.0, max=31347.0), HTML(value='')))"
      ]
     },
     "metadata": {},
     "output_type": "display_data"
    },
    {
     "name": "stdout",
     "output_type": "stream",
     "text": [
      "\n",
      "prawdopodobieństwo, prawdopodobiensitwao : prawdopodobieństwom\n"
     ]
    },
    {
     "data": {
      "application/vnd.jupyter.widget-view+json": {
       "model_id": "61bb0463b26b4f91bc7b3603216acf7b",
       "version_major": 2,
       "version_minor": 0
      },
      "text/plain": [
       "HBox(children=(FloatProgress(value=0.0, max=54659.0), HTML(value='')))"
      ]
     },
     "metadata": {},
     "output_type": "display_data"
    },
    {
     "name": "stderr",
     "output_type": "stream",
     "text": [
      "IOPub message rate exceeded.\n",
      "The notebook server will temporarily stop sending output\n",
      "to the client in order to avoid crashing it.\n",
      "To change this limit, set the config variable\n",
      "`--NotebookApp.iopub_msg_rate_limit`.\n",
      "\n",
      "Current values:\n",
      "NotebookApp.iopub_msg_rate_limit=1000.0 (msgs/sec)\n",
      "NotebookApp.rate_limit_window=3.0 (secs)\n",
      "\n"
     ]
    },
    {
     "name": "stdout",
     "output_type": "stream",
     "text": [
      "\n",
      "prawdopodobieństwo, prawdopdoodobienśtwo : prawdopodobieństwom\n"
     ]
    },
    {
     "data": {
      "application/vnd.jupyter.widget-view+json": {
       "model_id": "dbbe2c4bc1824441a864c9e760a08ed9",
       "version_major": 2,
       "version_minor": 0
      },
      "text/plain": [
       "HBox(children=(FloatProgress(value=0.0, max=142557.0), HTML(value='')))"
      ]
     },
     "metadata": {},
     "output_type": "display_data"
    },
    {
     "name": "stdout",
     "output_type": "stream",
     "text": [
      "\n",
      "prawdopodobieństwo, prawdopodbieństwi : prawdopodobieństw\n"
     ]
    },
    {
     "data": {
      "application/vnd.jupyter.widget-view+json": {
       "model_id": "aee15e323d6e4ea295726186f4c67080",
       "version_major": 2,
       "version_minor": 0
      },
      "text/plain": [
       "HBox(children=(FloatProgress(value=0.0, max=91000.0), HTML(value='')))"
      ]
     },
     "metadata": {},
     "output_type": "display_data"
    },
    {
     "name": "stdout",
     "output_type": "stream",
     "text": [
      "\n",
      "prawdopodobieństwo, prawodpoodbieństwo : prawdopodobieństwo\n"
     ]
    },
    {
     "data": {
      "application/vnd.jupyter.widget-view+json": {
       "model_id": "13e2a7fda1c6472f9c02b4cecdd2cfef",
       "version_major": 2,
       "version_minor": 0
      },
      "text/plain": [
       "HBox(children=(FloatProgress(value=0.0, max=1.0), HTML(value='')))"
      ]
     },
     "metadata": {},
     "output_type": "display_data"
    },
    {
     "name": "stdout",
     "output_type": "stream",
     "text": [
      "\n",
      "prawdomówny, prawdomównu : prawdomówno\n"
     ]
    },
    {
     "data": {
      "application/vnd.jupyter.widget-view+json": {
       "model_id": "255d173ab4f64f87a6349106fe191120",
       "version_major": 2,
       "version_minor": 0
      },
      "text/plain": [
       "HBox(children=(FloatProgress(value=0.0, max=486580.0), HTML(value='')))"
      ]
     },
     "metadata": {},
     "output_type": "display_data"
    },
    {
     "name": "stdout",
     "output_type": "stream",
     "text": [
      "\n",
      "prawdomówny, proawdomówny : prawdomówny\n"
     ]
    },
    {
     "data": {
      "application/vnd.jupyter.widget-view+json": {
       "model_id": "c2e62c5314514b11931f58f2d471c898",
       "version_major": 2,
       "version_minor": 0
      },
      "text/plain": [
       "HBox(children=(FloatProgress(value=0.0, max=295969.0), HTML(value='')))"
      ]
     },
     "metadata": {},
     "output_type": "display_data"
    },
    {
     "name": "stdout",
     "output_type": "stream",
     "text": [
      "\n",
      "prawdomówny, prawdowny : prawiony\n"
     ]
    },
    {
     "data": {
      "application/vnd.jupyter.widget-view+json": {
       "model_id": "b2bdafcd94814352938b5ffa1de70e45",
       "version_major": 2,
       "version_minor": 0
      },
      "text/plain": [
       "HBox(children=(FloatProgress(value=0.0, max=464487.0), HTML(value='')))"
      ]
     },
     "metadata": {},
     "output_type": "display_data"
    },
    {
     "name": "stdout",
     "output_type": "stream",
     "text": [
      "\n",
      "komputerek, kompteurerk : dompteurek\n"
     ]
    },
    {
     "data": {
      "application/vnd.jupyter.widget-view+json": {
       "model_id": "5b122e0540794eacab4aa3e1c0da40cf",
       "version_major": 2,
       "version_minor": 0
      },
      "text/plain": [
       "HBox(children=(FloatProgress(value=0.0, max=435137.0), HTML(value='')))"
      ]
     },
     "metadata": {},
     "output_type": "display_data"
    },
    {
     "name": "stdout",
     "output_type": "stream",
     "text": [
      "\n",
      "komputerek, komputerer : komputerem\n"
     ]
    },
    {
     "data": {
      "application/vnd.jupyter.widget-view+json": {
       "model_id": "c8c6e5aba5374798affbfd0069942fa1",
       "version_major": 2,
       "version_minor": 0
      },
      "text/plain": [
       "HBox(children=(FloatProgress(value=0.0, max=1.0), HTML(value='')))"
      ]
     },
     "metadata": {},
     "output_type": "display_data"
    },
    {
     "name": "stdout",
     "output_type": "stream",
     "text": [
      "\n",
      "komputerek, komputerek : komputerek\n"
     ]
    },
    {
     "data": {
      "application/vnd.jupyter.widget-view+json": {
       "model_id": "f750a182b7e440e0871bd872661ff167",
       "version_major": 2,
       "version_minor": 0
      },
      "text/plain": [
       "HBox(children=(FloatProgress(value=0.0, max=435137.0), HTML(value='')))"
      ]
     },
     "metadata": {},
     "output_type": "display_data"
    }
   ],
   "source": [
    "result = []\n",
    "with open(\"Dane/literowki1.txt\", \"r\") as ifile:\n",
    "    for line in ifile:\n",
    "        line = nltk.word_tokenize(line)\n",
    "        correct, incorrect = line[0], line[1]\n",
    "        corrected, ops = correct_word(line[1], (d1, d2))\n",
    "        result.append((corrected, ops))\n",
    "        print(f\"{line[0]}, {line[1]} : {corrected}\")"
   ]
  },
  {
   "cell_type": "code",
   "execution_count": null,
   "metadata": {},
   "outputs": [],
   "source": [
    "print(result)"
   ]
  },
  {
   "cell_type": "code",
   "execution_count": null,
   "metadata": {},
   "outputs": [],
   "source": []
  }
 ],
 "metadata": {
  "kernelspec": {
   "display_name": "Python 3",
   "language": "python",
   "name": "python3"
  },
  "language_info": {
   "codemirror_mode": {
    "name": "ipython",
    "version": 3
   },
   "file_extension": ".py",
   "mimetype": "text/x-python",
   "name": "python",
   "nbconvert_exporter": "python",
   "pygments_lexer": "ipython3",
   "version": "3.7.7"
  }
 },
 "nbformat": 4,
 "nbformat_minor": 4
}
