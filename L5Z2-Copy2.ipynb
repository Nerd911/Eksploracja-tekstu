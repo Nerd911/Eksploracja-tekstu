{
 "cells": [
  {
   "cell_type": "code",
   "execution_count": 1,
   "metadata": {},
   "outputs": [],
   "source": [
    "import numpy as np\n",
    "from collections import defaultdict as dd\n",
    "from typing import List, Dict, Set\n",
    "import nltk\n",
    "from math import log, ceil\n",
    "import time\n",
    "import sys\n",
    "from scipy.sparse import lil_matrix\n",
    "from sklearn.feature_extraction.text import TfidfVectorizer\n",
    "from sklearn.metrics.pairwise import cosine_distances"
   ]
  },
  {
   "cell_type": "code",
   "execution_count": 2,
   "metadata": {},
   "outputs": [],
   "source": [
    "import pickle\n",
    "with open(\"Dane/wiki_list\", \"rb\") as ifile:\n",
    "    wiki_list = pickle.load(ifile)"
   ]
  },
  {
   "cell_type": "code",
   "execution_count": 3,
   "metadata": {},
   "outputs": [],
   "source": [
    "def to_lemma_mapping():\n",
    "    all_lemmas = dd(list)\n",
    "    for line in open('Dane/polimorfologik-2.1.txt', encoding='utf-8'):\n",
    "        L = line.split(';')[:2]\n",
    "        all_lemmas[L[1].lower()].append(L[0].lower())\n",
    "    return all_lemmas"
   ]
  },
  {
   "cell_type": "code",
   "execution_count": 4,
   "metadata": {},
   "outputs": [],
   "source": [
    "with open(\"Dane/polish.stopwords.txt\", \"r\") as ifile:\n",
    "    stopwords = [line[:-1] for line in ifile]"
   ]
  },
  {
   "cell_type": "code",
   "execution_count": 5,
   "metadata": {},
   "outputs": [
    {
     "data": {
      "text/plain": [
       "['a',\n",
       " 'aby',\n",
       " 'ach',\n",
       " 'acz',\n",
       " 'aczkolwiek',\n",
       " 'aj',\n",
       " 'albo',\n",
       " 'ale',\n",
       " 'alez',\n",
       " 'ależ',\n",
       " 'ani',\n",
       " 'az',\n",
       " 'aż',\n",
       " 'bardziej',\n",
       " 'bardzo',\n",
       " 'beda',\n",
       " 'bedzie',\n",
       " 'bez',\n",
       " 'deda',\n",
       " 'będą',\n",
       " 'bede',\n",
       " 'będę',\n",
       " 'będzie',\n",
       " 'bo',\n",
       " 'bowiem',\n",
       " 'by',\n",
       " 'byc',\n",
       " 'być',\n",
       " 'byl',\n",
       " 'byla',\n",
       " 'byli',\n",
       " 'bylo',\n",
       " 'byly',\n",
       " 'był',\n",
       " 'była',\n",
       " 'było',\n",
       " 'były',\n",
       " 'bynajmniej',\n",
       " 'cala',\n",
       " 'cali',\n",
       " 'caly',\n",
       " 'cała',\n",
       " 'cały',\n",
       " 'ci',\n",
       " 'cie',\n",
       " 'ciebie',\n",
       " 'cię',\n",
       " 'co',\n",
       " 'cokolwiek',\n",
       " 'cos',\n",
       " 'coś',\n",
       " 'czasami',\n",
       " 'czasem',\n",
       " 'czemu',\n",
       " 'czy',\n",
       " 'czyli',\n",
       " 'daleko',\n",
       " 'dla',\n",
       " 'dlaczego',\n",
       " 'dlatego',\n",
       " 'do',\n",
       " 'dobrze',\n",
       " 'dokad',\n",
       " 'dokąd',\n",
       " 'dosc',\n",
       " 'dość',\n",
       " 'duzo',\n",
       " 'dużo',\n",
       " 'dwa',\n",
       " 'dwaj',\n",
       " 'dwie',\n",
       " 'dwoje',\n",
       " 'dzis',\n",
       " 'dzisiaj',\n",
       " 'dziś',\n",
       " 'gdy',\n",
       " 'gdyby',\n",
       " 'gdyz',\n",
       " 'gdyż',\n",
       " 'gdzie',\n",
       " 'gdziekolwiek',\n",
       " 'gdzies',\n",
       " 'gdzieś',\n",
       " 'go',\n",
       " 'i',\n",
       " 'ich',\n",
       " 'ile',\n",
       " 'im',\n",
       " 'inna',\n",
       " 'inne',\n",
       " 'inny',\n",
       " 'innych',\n",
       " 'iz',\n",
       " 'iż',\n",
       " 'ja',\n",
       " 'jak',\n",
       " 'jakas',\n",
       " 'jakaś',\n",
       " 'jakby',\n",
       " 'jaki',\n",
       " 'jakichs',\n",
       " 'jakichś',\n",
       " 'jakie',\n",
       " 'jakis',\n",
       " 'jakiś',\n",
       " 'jakiz',\n",
       " 'jakiż',\n",
       " 'jakkolwiek',\n",
       " 'jako',\n",
       " 'jakos',\n",
       " 'jakoś',\n",
       " 'ją',\n",
       " 'je',\n",
       " 'jeden',\n",
       " 'jedna',\n",
       " 'jednak',\n",
       " 'jednakze',\n",
       " 'jednakże',\n",
       " 'jedno',\n",
       " 'jego',\n",
       " 'jej',\n",
       " 'jemu',\n",
       " 'jesli',\n",
       " 'jest',\n",
       " 'jestem',\n",
       " 'jeszcze',\n",
       " 'jeśli',\n",
       " 'jezeli',\n",
       " 'jeżeli',\n",
       " 'juz',\n",
       " 'już',\n",
       " 'kazdy',\n",
       " 'każdy',\n",
       " 'kiedy',\n",
       " 'kilka',\n",
       " 'kims',\n",
       " 'kimś',\n",
       " 'kto',\n",
       " 'ktokolwiek',\n",
       " 'ktora',\n",
       " 'ktore',\n",
       " 'ktorego',\n",
       " 'ktorej',\n",
       " 'ktory',\n",
       " 'ktorych',\n",
       " 'ktorym',\n",
       " 'ktorzy',\n",
       " 'ktos',\n",
       " 'ktoś',\n",
       " 'która',\n",
       " 'które',\n",
       " 'którego',\n",
       " 'której',\n",
       " 'który',\n",
       " 'których',\n",
       " 'którym',\n",
       " 'którzy',\n",
       " 'ku',\n",
       " 'lat',\n",
       " 'lecz',\n",
       " 'lub',\n",
       " 'ma',\n",
       " 'mają',\n",
       " 'mało',\n",
       " 'mam',\n",
       " 'mi',\n",
       " 'miedzy',\n",
       " 'między',\n",
       " 'mimo',\n",
       " 'mna',\n",
       " 'mną',\n",
       " 'mnie',\n",
       " 'moga',\n",
       " 'mogą',\n",
       " 'moi',\n",
       " 'moim',\n",
       " 'moj',\n",
       " 'moja',\n",
       " 'moje',\n",
       " 'moze',\n",
       " 'mozliwe',\n",
       " 'mozna',\n",
       " 'może',\n",
       " 'możliwe',\n",
       " 'można',\n",
       " 'mój',\n",
       " 'mu',\n",
       " 'musi',\n",
       " 'my',\n",
       " 'na',\n",
       " 'nad',\n",
       " 'nam',\n",
       " 'nami',\n",
       " 'nas',\n",
       " 'nasi',\n",
       " 'nasz',\n",
       " 'nasza',\n",
       " 'nasze',\n",
       " 'naszego',\n",
       " 'naszych',\n",
       " 'natomiast',\n",
       " 'natychmiast',\n",
       " 'nawet',\n",
       " 'nia',\n",
       " 'nią',\n",
       " 'nic',\n",
       " 'nich',\n",
       " 'nie',\n",
       " 'niech',\n",
       " 'niego',\n",
       " 'niej',\n",
       " 'niemu',\n",
       " 'nigdy',\n",
       " 'nim',\n",
       " 'nimi',\n",
       " 'niz',\n",
       " 'niż',\n",
       " 'no',\n",
       " 'o',\n",
       " 'obok',\n",
       " 'od',\n",
       " 'około',\n",
       " 'on',\n",
       " 'ona',\n",
       " 'one',\n",
       " 'oni',\n",
       " 'ono',\n",
       " 'oraz',\n",
       " 'oto',\n",
       " 'owszem',\n",
       " 'pan',\n",
       " 'pana',\n",
       " 'pani',\n",
       " 'po',\n",
       " 'pod',\n",
       " 'podczas',\n",
       " 'pomimo',\n",
       " 'ponad',\n",
       " 'poniewaz',\n",
       " 'ponieważ',\n",
       " 'powinien',\n",
       " 'powinna',\n",
       " 'powinni',\n",
       " 'powinno',\n",
       " 'poza',\n",
       " 'prawie',\n",
       " 'przeciez',\n",
       " 'przecież',\n",
       " 'przed',\n",
       " 'przede',\n",
       " 'przedtem',\n",
       " 'przez',\n",
       " 'przy',\n",
       " 'roku',\n",
       " 'rowniez',\n",
       " 'również',\n",
       " 'sam',\n",
       " 'sama',\n",
       " 'są',\n",
       " 'sie',\n",
       " 'się',\n",
       " 'skad',\n",
       " 'skąd',\n",
       " 'soba',\n",
       " 'sobą',\n",
       " 'sobie',\n",
       " 'sposob',\n",
       " 'sposób',\n",
       " 'swoje',\n",
       " 'ta',\n",
       " 'tak',\n",
       " 'taka',\n",
       " 'taki',\n",
       " 'takie',\n",
       " 'takze',\n",
       " 'także',\n",
       " 'tam',\n",
       " 'te',\n",
       " 'tego',\n",
       " 'tej',\n",
       " 'ten',\n",
       " 'teraz',\n",
       " 'też',\n",
       " 'to',\n",
       " 'toba',\n",
       " 'tobą',\n",
       " 'tobie',\n",
       " 'totez',\n",
       " 'toteż',\n",
       " 'totobą',\n",
       " 'trzeba',\n",
       " 'tu',\n",
       " 'tutaj',\n",
       " 'twoi',\n",
       " 'twoim',\n",
       " 'twoj',\n",
       " 'twoja',\n",
       " 'twoje',\n",
       " 'twój',\n",
       " 'twym',\n",
       " 'ty',\n",
       " 'tych',\n",
       " 'tylko',\n",
       " 'tym',\n",
       " 'u',\n",
       " 'w',\n",
       " 'wam',\n",
       " 'wami',\n",
       " 'was',\n",
       " 'wasz',\n",
       " 'wasza',\n",
       " 'wasze',\n",
       " 'we',\n",
       " 'według',\n",
       " 'wiele',\n",
       " 'wielu',\n",
       " 'więc',\n",
       " 'więcej',\n",
       " 'wlasnie',\n",
       " 'właśnie',\n",
       " 'wszyscy',\n",
       " 'wszystkich',\n",
       " 'wszystkie',\n",
       " 'wszystkim',\n",
       " 'wszystko',\n",
       " 'wtedy',\n",
       " 'wy',\n",
       " 'z',\n",
       " 'za',\n",
       " 'zaden',\n",
       " 'zadna',\n",
       " 'zadne',\n",
       " 'zadnych',\n",
       " 'zapewne',\n",
       " 'zawsze',\n",
       " 'ze',\n",
       " 'zeby',\n",
       " 'zeznowu',\n",
       " 'zł',\n",
       " 'znow',\n",
       " 'znowu',\n",
       " 'znów',\n",
       " 'zostal',\n",
       " 'został',\n",
       " 'żaden',\n",
       " 'żadna',\n",
       " 'żadne',\n",
       " 'żadnych',\n",
       " 'że',\n",
       " 'żeb']"
      ]
     },
     "execution_count": 5,
     "metadata": {},
     "output_type": "execute_result"
    }
   ],
   "source": [
    "stopwords"
   ]
  },
  {
   "cell_type": "code",
   "execution_count": 6,
   "metadata": {},
   "outputs": [],
   "source": [
    "lemmas = to_lemma_mapping()"
   ]
  },
  {
   "cell_type": "code",
   "execution_count": 7,
   "metadata": {},
   "outputs": [
    {
     "data": {
      "text/plain": [
       "['zielona', 'zielony']"
      ]
     },
     "execution_count": 7,
     "metadata": {},
     "output_type": "execute_result"
    }
   ],
   "source": [
    "lemmas[\"zielonej\"]"
   ]
  },
  {
   "cell_type": "code",
   "execution_count": 8,
   "metadata": {},
   "outputs": [
    {
     "data": {
      "text/plain": [
       "('AWK',\n",
       " [['AWK'],\n",
       "  ['AWK',\n",
       "   '–',\n",
       "   'interpretowany',\n",
       "   'język',\n",
       "   'programowania',\n",
       "   ',',\n",
       "   'którego',\n",
       "   'główną',\n",
       "   'funkcją',\n",
       "   'jest',\n",
       "   'wyszukiwanie',\n",
       "   'i',\n",
       "   'przetwarzanie',\n",
       "   'wzorców',\n",
       "   'w',\n",
       "   'plikach',\n",
       "   'lub',\n",
       "   'strumieniach',\n",
       "   'danych',\n",
       "   '.',\n",
       "   'Jest',\n",
       "   'także',\n",
       "   'nazwą',\n",
       "   'programu',\n",
       "   'początkowo',\n",
       "   'dostępnego',\n",
       "   'dla',\n",
       "   'systemów',\n",
       "   'operacyjnych',\n",
       "   'będących',\n",
       "   'pochodnymi',\n",
       "   'UNIX-a',\n",
       "   ',',\n",
       "   'obecnie',\n",
       "   'także',\n",
       "   'na',\n",
       "   'inne',\n",
       "   'platformy',\n",
       "   '.'],\n",
       "  ['AWK',\n",
       "   'jest',\n",
       "   'językiem',\n",
       "   ',',\n",
       "   'który',\n",
       "   'w',\n",
       "   'znacznym',\n",
       "   'stopniu',\n",
       "   'wykorzystuje',\n",
       "   'tablice',\n",
       "   'asocjacyjne',\n",
       "   ',',\n",
       "   'stringi',\n",
       "   'i',\n",
       "   'wyrażenia',\n",
       "   'regularne',\n",
       "   '.',\n",
       "   'Nazwa',\n",
       "   'języka',\n",
       "   'pochodzi',\n",
       "   'od',\n",
       "   'pierwszych',\n",
       "   'liter',\n",
       "   'nazwisk',\n",
       "   'jego',\n",
       "   'autorów',\n",
       "   'Alfreda',\n",
       "   'V.',\n",
       "   'Aho',\n",
       "   ',',\n",
       "   'Petera',\n",
       "   'Weinbergera',\n",
       "   'i',\n",
       "   'Briana',\n",
       "   'Kernighana',\n",
       "   'i',\n",
       "   'czasami',\n",
       "   'jest',\n",
       "   'zapisywana',\n",
       "   'małymi',\n",
       "   'literami',\n",
       "   'oraz',\n",
       "   'odczytywana',\n",
       "   'jako',\n",
       "   'jedno',\n",
       "   'słowo',\n",
       "   '``',\n",
       "   'awk',\n",
       "   '``',\n",
       "   '.'],\n",
       "  []])"
      ]
     },
     "execution_count": 8,
     "metadata": {},
     "output_type": "execute_result"
    }
   ],
   "source": [
    "wiki_list[0]"
   ]
  },
  {
   "cell_type": "code",
   "execution_count": 9,
   "metadata": {},
   "outputs": [],
   "source": [
    "test = dd(lambda:0)"
   ]
  },
  {
   "cell_type": "code",
   "execution_count": 10,
   "metadata": {},
   "outputs": [
    {
     "data": {
      "text/plain": [
       "False"
      ]
     },
     "execution_count": 10,
     "metadata": {},
     "output_type": "execute_result"
    }
   ],
   "source": [
    "\"a\" in test"
   ]
  },
  {
   "cell_type": "code",
   "execution_count": null,
   "metadata": {},
   "outputs": [],
   "source": [
    "corpus = []\n",
    "for title, article in wiki_list:\n",
    "    art_processed = []\n",
    "    for line in article:\n",
    "        for w in line:\n",
    "            w = w.lower()\n",
    "            if w in lemmas:\n",
    "                art_processed.extend(lemmas[w])\n",
    "            else:\n",
    "                art_processed.append(w)\n",
    "    corpus.append(\" \".join(art_processed))"
   ]
  },
  {
   "cell_type": "code",
   "execution_count": null,
   "metadata": {},
   "outputs": [],
   "source": [
    "corpus = []\n",
    "key = \"\"\n",
    "with open(\"Dane/fp_wiki.txt\") as f:\n",
    "    cntr = -1\n",
    "    for line in f:\n",
    "        tokenized_line = line.split(\": \")\n",
    "        if tokenized_line[0] == \"TITLE\":\n",
    "            cntr+=1\n",
    "            corpus.append([])\n",
    "            continue\n",
    "        corpus[-1].append(line)"
   ]
  },
  {
   "cell_type": "code",
   "execution_count": 13,
   "metadata": {},
   "outputs": [],
   "source": [
    "corpus = [\"\".join(el) for el in corpus]"
   ]
  },
  {
   "cell_type": "code",
   "execution_count": 14,
   "metadata": {},
   "outputs": [
    {
     "data": {
      "text/plain": [
       "[\"AWK\\nAWK – interpretowany język programowania , którego główną funkcją jest wyszukiwanie i przetwarzanie wzorców w plikach lub strumieniach danych . Jest także nazwą programu początkowo dostępnego dla systemów operacyjnych będących pochodnymi UNIX-a , obecnie także na inne platformy .\\nAWK jest językiem , który w znacznym stopniu wykorzystuje tablice asocjacyjne , stringi i wyrażenia regularne . Nazwa języka pochodzi od pierwszych liter nazwisk jego autorów Alfreda V. Aho , Petera Weinbergera i Briana Kernighana i czasami jest zapisywana małymi literami oraz odczytywana jako jedno słowo `` awk '' .\\n\\n\",\n",
       " 'Alergologia\\nAlergologia – dziedzina medycyny zajmująca się rozpoznawaniem i leczeniem schorzeń alergicznych .\\n\\n',\n",
       " \"ASCII\\nASCII ( czyt . `` aski ; `` ang . `` American Standard Code for Information Interchange '' ) – 7-bitowy kod przyporządkowujący liczby z zakresu 0−127 : literom alfabetu angielskiego , cyfrom , znakom przestankowym i innym symbolom oraz poleceniom sterującym . Na przykład litera „a” jest kodowana jako liczba 97 , a znak spacji jest kodowany jako 32 .\\nZnaki ASCII dzielą się na :\\nLitery , cyfry , znaki interpunkcyjne oraz kilka innych znaków ( spacja , @ ) tworzą zbiór drukowalnych znaków ASCII . Pozostałe 33 kody to tzw . kody sterujące służące do kontroli urządzenia odbierającego komunikat , np . drukarki czy terminala .\\n\\n\"]"
      ]
     },
     "execution_count": 14,
     "metadata": {},
     "output_type": "execute_result"
    }
   ],
   "source": [
    "corpus[:3]"
   ]
  },
  {
   "cell_type": "code",
   "execution_count": 15,
   "metadata": {},
   "outputs": [],
   "source": [
    "def process_word(w):\n",
    "    w = w.lower()\n",
    "    if w in lemmas:\n",
    "        return \" \".join(lemmas[w])\n",
    "    return w"
   ]
  },
  {
   "cell_type": "code",
   "execution_count": 16,
   "metadata": {},
   "outputs": [],
   "source": [
    "vectorizer = TfidfVectorizer(stop_words = stopwords)"
   ]
  },
  {
   "cell_type": "code",
   "execution_count": 17,
   "metadata": {},
   "outputs": [],
   "source": [
    "X = vectorizer.fit_transform(corpus)"
   ]
  },
  {
   "cell_type": "code",
   "execution_count": 18,
   "metadata": {},
   "outputs": [
    {
     "name": "stderr",
     "output_type": "stream",
     "text": [
      "/home/mikolaj/miniconda3/envs/IoT-Pathway/lib/python3.7/site-packages/sklearn/neighbors/_base.py:414: UserWarning: cannot use tree with sparse input: using brute force\n",
      "  warnings.warn(\"cannot use tree with sparse input: \"\n"
     ]
    }
   ],
   "source": [
    "from sklearn.neighbors import NearestNeighbors\n",
    "nbrs = NearestNeighbors(n_neighbors=10, algorithm='ball_tree', metric=cosine_distances, n_jobs=50).fit(X)\n"
   ]
  },
  {
   "cell_type": "code",
   "execution_count": 19,
   "metadata": {},
   "outputs": [],
   "source": [
    "distances, indices = nbrs.kneighbors(X[:2])"
   ]
  },
  {
   "cell_type": "code",
   "execution_count": null,
   "metadata": {},
   "outputs": [],
   "source": [
    "import pickle\n",
    "with open(\"Dane/indices.pickle\", \"wb\") as ofile:\n",
    "    pickle.dump(indices, ofile)"
   ]
  },
  {
   "cell_type": "code",
   "execution_count": 1,
   "metadata": {},
   "outputs": [
    {
     "data": {
      "text/plain": [
       "'test'"
      ]
     },
     "execution_count": 1,
     "metadata": {},
     "output_type": "execute_result"
    }
   ],
   "source": [
    "\"test\""
   ]
  },
  {
   "cell_type": "code",
   "execution_count": 2,
   "metadata": {},
   "outputs": [
    {
     "ename": "NameError",
     "evalue": "name 'indices' is not defined",
     "output_type": "error",
     "traceback": [
      "\u001b[0;31m---------------------------------------------------------------------------\u001b[0m",
      "\u001b[0;31mNameError\u001b[0m                                 Traceback (most recent call last)",
      "\u001b[0;32m<ipython-input-2-e48decdcb3c1>\u001b[0m in \u001b[0;36m<module>\u001b[0;34m\u001b[0m\n\u001b[0;32m----> 1\u001b[0;31m \u001b[0mindices\u001b[0m\u001b[0;34m\u001b[0m\u001b[0;34m\u001b[0m\u001b[0m\n\u001b[0m",
      "\u001b[0;31mNameError\u001b[0m: name 'indices' is not defined"
     ]
    }
   ],
   "source": [
    "indices"
   ]
  },
  {
   "cell_type": "code",
   "execution_count": null,
   "metadata": {},
   "outputs": [],
   "source": []
  }
 ],
 "metadata": {
  "kernelspec": {
   "display_name": "Python 3",
   "language": "python",
   "name": "python3"
  },
  "language_info": {
   "codemirror_mode": {
    "name": "ipython",
    "version": 3
   },
   "file_extension": ".py",
   "mimetype": "text/x-python",
   "name": "python",
   "nbconvert_exporter": "python",
   "pygments_lexer": "ipython3",
   "version": "3.7.7"
  }
 },
 "nbformat": 4,
 "nbformat_minor": 4
}
